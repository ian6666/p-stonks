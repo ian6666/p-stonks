{
 "cells": [
  {
   "cell_type": "code",
   "execution_count": 1,
   "metadata": {},
   "outputs": [
    {
     "name": "stdout",
     "output_type": "stream",
     "text": [
      "Intel MKL WARNING: Support of Intel(R) Streaming SIMD Extensions 4.2 (Intel(R) SSE4.2) enabled only processors has been deprecated. Intel oneAPI Math Kernel Library 2025.0 will require Intel(R) Advanced Vector Extensions (Intel(R) AVX) instructions.\n",
      "Intel MKL WARNING: Support of Intel(R) Streaming SIMD Extensions 4.2 (Intel(R) SSE4.2) enabled only processors has been deprecated. Intel oneAPI Math Kernel Library 2025.0 will require Intel(R) Advanced Vector Extensions (Intel(R) AVX) instructions.\n"
     ]
    }
   ],
   "source": [
    "import pandas as pd\n",
    "import numpy as np"
   ]
  },
  {
   "cell_type": "code",
   "execution_count": 2,
   "metadata": {},
   "outputs": [
    {
     "data": {
      "text/html": [
       "<div>\n",
       "<style scoped>\n",
       "    .dataframe tbody tr th:only-of-type {\n",
       "        vertical-align: middle;\n",
       "    }\n",
       "\n",
       "    .dataframe tbody tr th {\n",
       "        vertical-align: top;\n",
       "    }\n",
       "\n",
       "    .dataframe thead th {\n",
       "        text-align: right;\n",
       "    }\n",
       "</style>\n",
       "<table border=\"1\" class=\"dataframe\">\n",
       "  <thead>\n",
       "    <tr style=\"text-align: right;\">\n",
       "      <th></th>\n",
       "      <th>Date</th>\n",
       "      <th>Open</th>\n",
       "      <th>High</th>\n",
       "      <th>Low</th>\n",
       "      <th>Close</th>\n",
       "      <th>Adj Close</th>\n",
       "      <th>Volume</th>\n",
       "      <th>SMA30</th>\n",
       "      <th>SMA60</th>\n",
       "      <th>SMA120</th>\n",
       "      <th>cci</th>\n",
       "      <th>natr</th>\n",
       "    </tr>\n",
       "  </thead>\n",
       "  <tbody>\n",
       "    <tr>\n",
       "      <th>0</th>\n",
       "      <td>2019-04-26</td>\n",
       "      <td>45.177502</td>\n",
       "      <td>45.222500</td>\n",
       "      <td>43.325001</td>\n",
       "      <td>44.522499</td>\n",
       "      <td>44.226086</td>\n",
       "      <td>86898800</td>\n",
       "      <td>45.560394</td>\n",
       "      <td>41.946467</td>\n",
       "      <td>40.473302</td>\n",
       "      <td>-282.202417</td>\n",
       "      <td>3.305042</td>\n",
       "    </tr>\n",
       "    <tr>\n",
       "      <th>1</th>\n",
       "      <td>2019-04-29</td>\n",
       "      <td>44.602501</td>\n",
       "      <td>45.112499</td>\n",
       "      <td>43.875000</td>\n",
       "      <td>44.832500</td>\n",
       "      <td>44.534031</td>\n",
       "      <td>39192000</td>\n",
       "      <td>45.639200</td>\n",
       "      <td>42.094343</td>\n",
       "      <td>40.393964</td>\n",
       "      <td>-196.012988</td>\n",
       "      <td>3.246230</td>\n",
       "    </tr>\n",
       "    <tr>\n",
       "      <th>2</th>\n",
       "      <td>2019-04-30</td>\n",
       "      <td>44.507500</td>\n",
       "      <td>45.507500</td>\n",
       "      <td>44.314999</td>\n",
       "      <td>45.250000</td>\n",
       "      <td>44.948753</td>\n",
       "      <td>36292000</td>\n",
       "      <td>45.738948</td>\n",
       "      <td>42.245079</td>\n",
       "      <td>40.324670</td>\n",
       "      <td>-123.531274</td>\n",
       "      <td>3.176046</td>\n",
       "    </tr>\n",
       "    <tr>\n",
       "      <th>3</th>\n",
       "      <td>2019-05-01</td>\n",
       "      <td>45.777500</td>\n",
       "      <td>46.202499</td>\n",
       "      <td>45.115002</td>\n",
       "      <td>45.117500</td>\n",
       "      <td>44.817131</td>\n",
       "      <td>35428000</td>\n",
       "      <td>45.778351</td>\n",
       "      <td>42.375222</td>\n",
       "      <td>40.260784</td>\n",
       "      <td>-72.689669</td>\n",
       "      <td>3.157666</td>\n",
       "    </tr>\n",
       "    <tr>\n",
       "      <th>4</th>\n",
       "      <td>2019-05-02</td>\n",
       "      <td>45.215000</td>\n",
       "      <td>46.217499</td>\n",
       "      <td>44.779999</td>\n",
       "      <td>45.797501</td>\n",
       "      <td>45.492599</td>\n",
       "      <td>39468400</td>\n",
       "      <td>45.851113</td>\n",
       "      <td>42.513439</td>\n",
       "      <td>40.203994</td>\n",
       "      <td>-52.067239</td>\n",
       "      <td>3.114287</td>\n",
       "    </tr>\n",
       "  </tbody>\n",
       "</table>\n",
       "</div>"
      ],
      "text/plain": [
       "         Date       Open       High        Low      Close  Adj Close  \\\n",
       "0  2019-04-26  45.177502  45.222500  43.325001  44.522499  44.226086   \n",
       "1  2019-04-29  44.602501  45.112499  43.875000  44.832500  44.534031   \n",
       "2  2019-04-30  44.507500  45.507500  44.314999  45.250000  44.948753   \n",
       "3  2019-05-01  45.777500  46.202499  45.115002  45.117500  44.817131   \n",
       "4  2019-05-02  45.215000  46.217499  44.779999  45.797501  45.492599   \n",
       "\n",
       "     Volume      SMA30      SMA60     SMA120         cci      natr  \n",
       "0  86898800  45.560394  41.946467  40.473302 -282.202417  3.305042  \n",
       "1  39192000  45.639200  42.094343  40.393964 -196.012988  3.246230  \n",
       "2  36292000  45.738948  42.245079  40.324670 -123.531274  3.176046  \n",
       "3  35428000  45.778351  42.375222  40.260784  -72.689669  3.157666  \n",
       "4  39468400  45.851113  42.513439  40.203994  -52.067239  3.114287  "
      ]
     },
     "execution_count": 2,
     "metadata": {},
     "output_type": "execute_result"
    }
   ],
   "source": [
    "df = pd.read_csv(\"example.csv\")\n",
    "df.head()"
   ]
  },
  {
   "cell_type": "code",
   "execution_count": 3,
   "metadata": {},
   "outputs": [
    {
     "data": {
      "text/html": [
       "<div>\n",
       "<style scoped>\n",
       "    .dataframe tbody tr th:only-of-type {\n",
       "        vertical-align: middle;\n",
       "    }\n",
       "\n",
       "    .dataframe tbody tr th {\n",
       "        vertical-align: top;\n",
       "    }\n",
       "\n",
       "    .dataframe thead th {\n",
       "        text-align: right;\n",
       "    }\n",
       "</style>\n",
       "<table border=\"1\" class=\"dataframe\">\n",
       "  <thead>\n",
       "    <tr style=\"text-align: right;\">\n",
       "      <th></th>\n",
       "      <th>Open</th>\n",
       "      <th>High</th>\n",
       "      <th>Low</th>\n",
       "      <th>Close</th>\n",
       "      <th>Adj Close</th>\n",
       "      <th>Volume</th>\n",
       "      <th>SMA30</th>\n",
       "      <th>SMA60</th>\n",
       "      <th>SMA120</th>\n",
       "      <th>cci</th>\n",
       "      <th>natr</th>\n",
       "    </tr>\n",
       "  </thead>\n",
       "  <tbody>\n",
       "    <tr>\n",
       "      <th>count</th>\n",
       "      <td>1138.000000</td>\n",
       "      <td>1138.000000</td>\n",
       "      <td>1138.000000</td>\n",
       "      <td>1138.000000</td>\n",
       "      <td>1138.000000</td>\n",
       "      <td>1.138000e+03</td>\n",
       "      <td>1138.000000</td>\n",
       "      <td>1138.000000</td>\n",
       "      <td>1138.000000</td>\n",
       "      <td>1138.000000</td>\n",
       "      <td>1138.000000</td>\n",
       "    </tr>\n",
       "    <tr>\n",
       "      <th>mean</th>\n",
       "      <td>176.043341</td>\n",
       "      <td>179.403991</td>\n",
       "      <td>172.580169</td>\n",
       "      <td>176.132074</td>\n",
       "      <td>175.920360</td>\n",
       "      <td>4.545078e+07</td>\n",
       "      <td>171.021893</td>\n",
       "      <td>165.691178</td>\n",
       "      <td>155.064281</td>\n",
       "      <td>26.100976</td>\n",
       "      <td>4.167500</td>\n",
       "    </tr>\n",
       "    <tr>\n",
       "      <th>std</th>\n",
       "      <td>112.467132</td>\n",
       "      <td>114.409978</td>\n",
       "      <td>110.217744</td>\n",
       "      <td>112.314820</td>\n",
       "      <td>112.357283</td>\n",
       "      <td>1.893118e+07</td>\n",
       "      <td>108.451228</td>\n",
       "      <td>103.456531</td>\n",
       "      <td>91.566976</td>\n",
       "      <td>107.554878</td>\n",
       "      <td>1.374431</td>\n",
       "    </tr>\n",
       "    <tr>\n",
       "      <th>min</th>\n",
       "      <td>33.977501</td>\n",
       "      <td>34.367500</td>\n",
       "      <td>33.150002</td>\n",
       "      <td>33.445000</td>\n",
       "      <td>33.260258</td>\n",
       "      <td>9.788400e+06</td>\n",
       "      <td>36.880207</td>\n",
       "      <td>38.921229</td>\n",
       "      <td>39.563432</td>\n",
       "      <td>-340.967996</td>\n",
       "      <td>2.029649</td>\n",
       "    </tr>\n",
       "    <tr>\n",
       "      <th>25%</th>\n",
       "      <td>91.516874</td>\n",
       "      <td>91.915623</td>\n",
       "      <td>87.991875</td>\n",
       "      <td>90.516249</td>\n",
       "      <td>90.266968</td>\n",
       "      <td>3.184130e+07</td>\n",
       "      <td>83.569845</td>\n",
       "      <td>74.659110</td>\n",
       "      <td>68.810736</td>\n",
       "      <td>-64.092941</td>\n",
       "      <td>3.157648</td>\n",
       "    </tr>\n",
       "    <tr>\n",
       "      <th>50%</th>\n",
       "      <td>150.910004</td>\n",
       "      <td>153.457497</td>\n",
       "      <td>148.178749</td>\n",
       "      <td>151.120003</td>\n",
       "      <td>150.982742</td>\n",
       "      <td>4.272305e+07</td>\n",
       "      <td>148.331403</td>\n",
       "      <td>144.788864</td>\n",
       "      <td>151.701553</td>\n",
       "      <td>44.789238</td>\n",
       "      <td>3.780224</td>\n",
       "    </tr>\n",
       "    <tr>\n",
       "      <th>75%</th>\n",
       "      <td>226.644997</td>\n",
       "      <td>230.475002</td>\n",
       "      <td>222.352501</td>\n",
       "      <td>227.189995</td>\n",
       "      <td>226.929192</td>\n",
       "      <td>5.573625e+07</td>\n",
       "      <td>225.846915</td>\n",
       "      <td>219.708964</td>\n",
       "      <td>212.100417</td>\n",
       "      <td>110.057293</td>\n",
       "      <td>4.955967</td>\n",
       "    </tr>\n",
       "    <tr>\n",
       "      <th>max</th>\n",
       "      <td>502.160004</td>\n",
       "      <td>502.660004</td>\n",
       "      <td>489.579987</td>\n",
       "      <td>493.549988</td>\n",
       "      <td>493.509338</td>\n",
       "      <td>1.543911e+08</td>\n",
       "      <td>456.824594</td>\n",
       "      <td>450.273509</td>\n",
       "      <td>424.754155</td>\n",
       "      <td>325.646981</td>\n",
       "      <td>10.597868</td>\n",
       "    </tr>\n",
       "  </tbody>\n",
       "</table>\n",
       "</div>"
      ],
      "text/plain": [
       "              Open         High          Low        Close    Adj Close  \\\n",
       "count  1138.000000  1138.000000  1138.000000  1138.000000  1138.000000   \n",
       "mean    176.043341   179.403991   172.580169   176.132074   175.920360   \n",
       "std     112.467132   114.409978   110.217744   112.314820   112.357283   \n",
       "min      33.977501    34.367500    33.150002    33.445000    33.260258   \n",
       "25%      91.516874    91.915623    87.991875    90.516249    90.266968   \n",
       "50%     150.910004   153.457497   148.178749   151.120003   150.982742   \n",
       "75%     226.644997   230.475002   222.352501   227.189995   226.929192   \n",
       "max     502.160004   502.660004   489.579987   493.549988   493.509338   \n",
       "\n",
       "             Volume        SMA30        SMA60       SMA120          cci  \\\n",
       "count  1.138000e+03  1138.000000  1138.000000  1138.000000  1138.000000   \n",
       "mean   4.545078e+07   171.021893   165.691178   155.064281    26.100976   \n",
       "std    1.893118e+07   108.451228   103.456531    91.566976   107.554878   \n",
       "min    9.788400e+06    36.880207    38.921229    39.563432  -340.967996   \n",
       "25%    3.184130e+07    83.569845    74.659110    68.810736   -64.092941   \n",
       "50%    4.272305e+07   148.331403   144.788864   151.701553    44.789238   \n",
       "75%    5.573625e+07   225.846915   219.708964   212.100417   110.057293   \n",
       "max    1.543911e+08   456.824594   450.273509   424.754155   325.646981   \n",
       "\n",
       "              natr  \n",
       "count  1138.000000  \n",
       "mean      4.167500  \n",
       "std       1.374431  \n",
       "min       2.029649  \n",
       "25%       3.157648  \n",
       "50%       3.780224  \n",
       "75%       4.955967  \n",
       "max      10.597868  "
      ]
     },
     "execution_count": 3,
     "metadata": {},
     "output_type": "execute_result"
    }
   ],
   "source": [
    "df.describe()"
   ]
  },
  {
   "cell_type": "code",
   "execution_count": 4,
   "metadata": {},
   "outputs": [
    {
     "data": {
      "text/plain": [
       "(1138, 12)"
      ]
     },
     "execution_count": 4,
     "metadata": {},
     "output_type": "execute_result"
    }
   ],
   "source": [
    "df.shape"
   ]
  },
  {
   "cell_type": "code",
   "execution_count": 5,
   "metadata": {},
   "outputs": [
    {
     "data": {
      "text/plain": [
       "((1108, 10), (1108, 1))"
      ]
     },
     "execution_count": 5,
     "metadata": {},
     "output_type": "execute_result"
    }
   ],
   "source": [
    "df.drop(columns=['Date'], inplace=True)\n",
    "df_x = df[[col for col in df.columns if col != 'Close']]\n",
    "df_y = df[['Close']]\n",
    "\n",
    "df_x = df_x.iloc[:-30].reset_index(drop=True)\n",
    "df_y = df_y.iloc[30:].reset_index(drop=True)\n",
    "\n",
    "df_x.shape, df_y.shape"
   ]
  },
  {
   "cell_type": "code",
   "execution_count": 6,
   "metadata": {},
   "outputs": [
    {
     "data": {
      "text/plain": [
       "((1108, 10), (1108, 1))"
      ]
     },
     "execution_count": 6,
     "metadata": {},
     "output_type": "execute_result"
    }
   ],
   "source": [
    "# Scale the data\n",
    "from sklearn.preprocessing import MinMaxScaler\n",
    "\n",
    "scaler_x = MinMaxScaler(feature_range=(0,1))\n",
    "scaler_y = MinMaxScaler(feature_range=(0,1))\n",
    "\n",
    "train_x = scaler_x.fit_transform(df_x)\n",
    "train_y = scaler_y.fit_transform(df_y)\n",
    "\n",
    "# Should be the smae shape as above\n",
    "train_x.shape, train_y.shape"
   ]
  },
  {
   "cell_type": "code",
   "execution_count": 7,
   "metadata": {},
   "outputs": [
    {
     "data": {
      "text/plain": [
       "array([[0.0239223 , 0.02317996, 0.02229257, 0.02382586, 0.53325699,\n",
       "        0.02066985, 0.00738595, 0.00263104, 0.0881552 , 0.14885158],\n",
       "       [0.02269414, 0.02294506, 0.02349758, 0.02449494, 0.2033406 ,\n",
       "        0.02085751, 0.00774698, 0.00240162, 0.21744937, 0.14198759],\n",
       "       [0.02249123, 0.02378855, 0.02446158, 0.02539602, 0.18328565,\n",
       "        0.02109504, 0.008115  , 0.00220124, 0.32618037, 0.13379639],\n",
       "       [0.02520385, 0.02527266, 0.02621432, 0.02511004, 0.17731066,\n",
       "        0.02118886, 0.00843273, 0.00201651, 0.40244869, 0.13165128],\n",
       "       [0.02400239, 0.02530469, 0.02548035, 0.02657766, 0.20525205,\n",
       "        0.02136213, 0.00877018, 0.00185229, 0.43338474, 0.12658845]])"
      ]
     },
     "execution_count": 7,
     "metadata": {},
     "output_type": "execute_result"
    }
   ],
   "source": [
    "train_x[:5]"
   ]
  },
  {
   "cell_type": "code",
   "execution_count": 8,
   "metadata": {},
   "outputs": [
    {
     "data": {
      "text/plain": [
       "(array([[ 4.51775017e+01,  4.52224998e+01,  4.33250008e+01,\n",
       "          4.42260857e+01,  8.68988000e+07,  4.55603943e+01,\n",
       "          4.19464673e+01,  4.04733020e+01, -2.82202417e+02,\n",
       "          3.30504235e+00],\n",
       "        [ 4.46025009e+01,  4.51124992e+01,  4.38750000e+01,\n",
       "          4.45340309e+01,  3.91920000e+07,  4.56392000e+01,\n",
       "          4.20943430e+01,  4.03939637e+01, -1.96012988e+02,\n",
       "          3.24623023e+00],\n",
       "        [ 4.45074997e+01,  4.55074997e+01,  4.43149986e+01,\n",
       "          4.49487534e+01,  3.62920000e+07,  4.57389483e+01,\n",
       "          4.22450787e+01,  4.03246696e+01, -1.23531274e+02,\n",
       "          3.17604618e+00],\n",
       "        [ 4.57775002e+01,  4.62024994e+01,  4.51150017e+01,\n",
       "          4.48171310e+01,  3.54280000e+07,  4.57783511e+01,\n",
       "          4.23752216e+01,  4.02607842e+01, -7.26896691e+01,\n",
       "          3.15766646e+00],\n",
       "        [ 4.52150002e+01,  4.62174988e+01,  4.47799988e+01,\n",
       "          4.54925995e+01,  3.94684000e+07,  4.58511133e+01,\n",
       "          4.25134385e+01,  4.02039941e+01, -5.20672389e+01,\n",
       "          3.11428702e+00]]),\n",
       " array([[37.10749817],\n",
       "        [37.6875    ],\n",
       "        [36.54999924],\n",
       "        [37.06499863],\n",
       "        [36.15999985]]))"
      ]
     },
     "execution_count": 8,
     "metadata": {},
     "output_type": "execute_result"
    }
   ],
   "source": [
    "scaler_x.inverse_transform(train_x[:5]), scaler_y.inverse_transform(train_y[:5])"
   ]
  },
  {
   "cell_type": "code",
   "execution_count": 9,
   "metadata": {},
   "outputs": [
    {
     "data": {
      "text/plain": [
       "(        Open       High        Low  Adj Close    Volume      SMA30      SMA60  \\\n",
       " 0  45.177502  45.222500  43.325001  44.226086  86898800  45.560394  41.946467   \n",
       " 1  44.602501  45.112499  43.875000  44.534031  39192000  45.639200  42.094343   \n",
       " 2  44.507500  45.507500  44.314999  44.948753  36292000  45.738948  42.245079   \n",
       " 3  45.777500  46.202499  45.115002  44.817131  35428000  45.778351  42.375222   \n",
       " 4  45.215000  46.217499  44.779999  45.492599  39468400  45.851113  42.513439   \n",
       " \n",
       "       SMA120         cci      natr  \n",
       " 0  40.473302 -282.202417  3.305042  \n",
       " 1  40.393964 -196.012988  3.246230  \n",
       " 2  40.324670 -123.531274  3.176046  \n",
       " 3  40.260784  -72.689669  3.157666  \n",
       " 4  40.203994  -52.067239  3.114287  ,\n",
       "        Close\n",
       " 0  37.107498\n",
       " 1  37.687500\n",
       " 2  36.549999\n",
       " 3  37.064999\n",
       " 4  36.160000)"
      ]
     },
     "execution_count": 9,
     "metadata": {},
     "output_type": "execute_result"
    }
   ],
   "source": [
    "df_x.head(), df_y.head()"
   ]
  },
  {
   "cell_type": "code",
   "execution_count": null,
   "metadata": {},
   "outputs": [],
   "source": []
  }
 ],
 "metadata": {
  "kernelspec": {
   "display_name": "p-stonk",
   "language": "python",
   "name": "python3"
  },
  "language_info": {
   "codemirror_mode": {
    "name": "ipython",
    "version": 3
   },
   "file_extension": ".py",
   "mimetype": "text/x-python",
   "name": "python",
   "nbconvert_exporter": "python",
   "pygments_lexer": "ipython3",
   "version": "3.10.13"
  },
  "orig_nbformat": 4
 },
 "nbformat": 4,
 "nbformat_minor": 2
}
